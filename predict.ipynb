{
 "cells": [
  {
   "cell_type": "markdown",
   "id": "619c9906-2870-493c-bddd-f9c3e613833f",
   "metadata": {},
   "source": [
    "## Предсказания на привате"
   ]
  },
  {
   "cell_type": "code",
   "execution_count": 16,
   "id": "28d42dd7-1b18-40dd-bab1-04145f5b196f",
   "metadata": {},
   "outputs": [],
   "source": [
    "import pandas as pd\n",
    "import numpy as np\n",
    "import transformers\n",
    "import torch\n",
    "\n",
    "from sklearn import metrics\n",
    "from torch.utils.data import Dataset, DataLoader\n",
    "from transformers import BertTokenizer, BertModel, BertConfig\n",
    "from sklearn.preprocessing import MultiLabelBinarizer\n",
    "from tqdm import tqdm"
   ]
  },
  {
   "cell_type": "code",
   "execution_count": 2,
   "id": "d02e1f69-620c-4932-b919-d3640848db38",
   "metadata": {},
   "outputs": [],
   "source": [
    "from torch import cuda\n",
    "device = 'cuda' if cuda.is_available() else 'cpu'"
   ]
  },
  {
   "cell_type": "code",
   "execution_count": 3,
   "id": "df4e7826-9419-49bc-afd2-0b9bc2d111bb",
   "metadata": {},
   "outputs": [
    {
     "data": {
      "text/html": [
       "<div>\n",
       "<style scoped>\n",
       "    .dataframe tbody tr th:only-of-type {\n",
       "        vertical-align: middle;\n",
       "    }\n",
       "\n",
       "    .dataframe tbody tr th {\n",
       "        vertical-align: top;\n",
       "    }\n",
       "\n",
       "    .dataframe thead th {\n",
       "        text-align: right;\n",
       "    }\n",
       "</style>\n",
       "<table border=\"1\" class=\"dataframe\">\n",
       "  <thead>\n",
       "    <tr style=\"text-align: right;\">\n",
       "      <th></th>\n",
       "      <th>movie</th>\n",
       "      <th>description</th>\n",
       "      <th>plot</th>\n",
       "    </tr>\n",
       "  </thead>\n",
       "  <tbody>\n",
       "    <tr>\n",
       "      <th>0</th>\n",
       "      <td>Пираты галактики Барракуда (2024)</td>\n",
       "      <td>На Землю попадает пришелец из далёкой галактик...</td>\n",
       "      <td>На Землю попадает пришелец из далёкой галактик...</td>\n",
       "    </tr>\n",
       "    <tr>\n",
       "      <th>1</th>\n",
       "      <td>Брат (1997)</td>\n",
       "      <td>Демобилизованный из армии Данила Багров возвра...</td>\n",
       "      <td>Осень 1996 года. Вернувшийся с Чеченской войны...</td>\n",
       "    </tr>\n",
       "    <tr>\n",
       "      <th>2</th>\n",
       "      <td>Смерч 2 (2024)</td>\n",
       "      <td>Кейт Картер изучает метеорологию в Нью-Йорке. ...</td>\n",
       "      <td>Кейт Картер изучает метеорологию в Нью-Йорке. ...</td>\n",
       "    </tr>\n",
       "    <tr>\n",
       "      <th>3</th>\n",
       "      <td>Реквием по мечте (2000)</td>\n",
       "      <td>В драме \"Реквием по мечте\" Сара Голдфарб мечта...</td>\n",
       "      <td>Главные герои: мать — Сара (Эллен Бёрстин) и с...</td>\n",
       "    </tr>\n",
       "    <tr>\n",
       "      <th>4</th>\n",
       "      <td>Капитан Волконогов бежал (2021)</td>\n",
       "      <td>В Ленинграде 1938 года капитан Фёдор Волконого...</td>\n",
       "      <td>Сюрреалистический Ленинград, 1938 год. Главный...</td>\n",
       "    </tr>\n",
       "    <tr>\n",
       "      <th>...</th>\n",
       "      <td>...</td>\n",
       "      <td>...</td>\n",
       "      <td>...</td>\n",
       "    </tr>\n",
       "    <tr>\n",
       "      <th>118</th>\n",
       "      <td>Великий Гэтсби (2013)</td>\n",
       "      <td>Весной 1922 года Ник Каррауэй приезжает в Нью-...</td>\n",
       "      <td>Ник Кэррауэй, выпускник Йельского университета...</td>\n",
       "    </tr>\n",
       "    <tr>\n",
       "      <th>119</th>\n",
       "      <td>Пришельцы (2022)</td>\n",
       "      <td>В этом захватывающем блокбастере о путешествия...</td>\n",
       "      <td>NaN</td>\n",
       "    </tr>\n",
       "    <tr>\n",
       "      <th>120</th>\n",
       "      <td>Загадочная история Бенджамина Баттона (2008)</td>\n",
       "      <td>Фильм рассказывает историю Бенджамина Баттона,...</td>\n",
       "      <td>В августе 2005 года Дейзи Фуллер находится на ...</td>\n",
       "    </tr>\n",
       "    <tr>\n",
       "      <th>121</th>\n",
       "      <td>Отряд самоубийц (2016)</td>\n",
       "      <td>После смерти Супермена правительство решает да...</td>\n",
       "      <td>После смерти Супермена агент разведки Аманда У...</td>\n",
       "    </tr>\n",
       "    <tr>\n",
       "      <th>122</th>\n",
       "      <td>Бронкская история (1993)</td>\n",
       "      <td>Фильм рассказывает историю Калоджеро, мальчика...</td>\n",
       "      <td>Фильм повествует о жизни Калоджеро, мальчика и...</td>\n",
       "    </tr>\n",
       "  </tbody>\n",
       "</table>\n",
       "<p>123 rows × 3 columns</p>\n",
       "</div>"
      ],
      "text/plain": [
       "                                            movie  \\\n",
       "0               Пираты галактики Барракуда (2024)   \n",
       "1                                     Брат (1997)   \n",
       "2                                  Смерч 2 (2024)   \n",
       "3                         Реквием по мечте (2000)   \n",
       "4                 Капитан Волконогов бежал (2021)   \n",
       "..                                            ...   \n",
       "118                         Великий Гэтсби (2013)   \n",
       "119                              Пришельцы (2022)   \n",
       "120  Загадочная история Бенджамина Баттона (2008)   \n",
       "121                        Отряд самоубийц (2016)   \n",
       "122                      Бронкская история (1993)   \n",
       "\n",
       "                                           description  \\\n",
       "0    На Землю попадает пришелец из далёкой галактик...   \n",
       "1    Демобилизованный из армии Данила Багров возвра...   \n",
       "2    Кейт Картер изучает метеорологию в Нью-Йорке. ...   \n",
       "3    В драме \"Реквием по мечте\" Сара Голдфарб мечта...   \n",
       "4    В Ленинграде 1938 года капитан Фёдор Волконого...   \n",
       "..                                                 ...   \n",
       "118  Весной 1922 года Ник Каррауэй приезжает в Нью-...   \n",
       "119  В этом захватывающем блокбастере о путешествия...   \n",
       "120  Фильм рассказывает историю Бенджамина Баттона,...   \n",
       "121  После смерти Супермена правительство решает да...   \n",
       "122  Фильм рассказывает историю Калоджеро, мальчика...   \n",
       "\n",
       "                                                  plot  \n",
       "0    На Землю попадает пришелец из далёкой галактик...  \n",
       "1    Осень 1996 года. Вернувшийся с Чеченской войны...  \n",
       "2    Кейт Картер изучает метеорологию в Нью-Йорке. ...  \n",
       "3    Главные герои: мать — Сара (Эллен Бёрстин) и с...  \n",
       "4    Сюрреалистический Ленинград, 1938 год. Главный...  \n",
       "..                                                 ...  \n",
       "118  Ник Кэррауэй, выпускник Йельского университета...  \n",
       "119                                                NaN  \n",
       "120  В августе 2005 года Дейзи Фуллер находится на ...  \n",
       "121  После смерти Супермена агент разведки Аманда У...  \n",
       "122  Фильм повествует о жизни Калоджеро, мальчика и...  \n",
       "\n",
       "[123 rows x 3 columns]"
      ]
     },
     "execution_count": 3,
     "metadata": {},
     "output_type": "execute_result"
    }
   ],
   "source": [
    "df = pd.read_csv('private_test.csv')\n",
    "df = df.rename({'Фильм': 'movie', 'Сюжет': 'plot', 'Описание': 'description'}, axis=1)\n",
    "df"
   ]
  },
  {
   "cell_type": "code",
   "execution_count": 4,
   "id": "245ae392-c7da-467d-af06-41faad3cd913",
   "metadata": {},
   "outputs": [
    {
     "data": {
      "text/plain": [
       "movie          False\n",
       "description    False\n",
       "plot            True\n",
       "dtype: bool"
      ]
     },
     "execution_count": 4,
     "metadata": {},
     "output_type": "execute_result"
    }
   ],
   "source": [
    "df.isnull().any()"
   ]
  },
  {
   "cell_type": "code",
   "execution_count": 5,
   "id": "8c1eda0d-bca4-4d1e-876e-1ba231e1c2f2",
   "metadata": {},
   "outputs": [
    {
     "name": "stderr",
     "output_type": "stream",
     "text": [
      "C:\\Users\\Animados\\AppData\\Local\\Temp\\ipykernel_12216\\2100915472.py:1: FutureWarning: A value is trying to be set on a copy of a DataFrame or Series through chained assignment using an inplace method.\n",
      "The behavior will change in pandas 3.0. This inplace method will never work because the intermediate object on which we are setting values always behaves as a copy.\n",
      "\n",
      "For example, when doing 'df[col].method(value, inplace=True)', try using 'df.method({col: value}, inplace=True)' or df[col] = df[col].method(value) instead, to perform the operation inplace on the original object.\n",
      "\n",
      "\n",
      "  df['plot'].fillna(df['description'], inplace=True)\n"
     ]
    },
    {
     "data": {
      "text/plain": [
       "movie          False\n",
       "description    False\n",
       "plot           False\n",
       "dtype: bool"
      ]
     },
     "execution_count": 5,
     "metadata": {},
     "output_type": "execute_result"
    }
   ],
   "source": [
    "df['plot'].fillna(df['description'], inplace=True)\n",
    "df.isnull().any()"
   ]
  },
  {
   "cell_type": "code",
   "execution_count": 6,
   "id": "59ec868a-f461-494b-b868-53e1d8238363",
   "metadata": {},
   "outputs": [],
   "source": [
    "import re\n",
    "\n",
    "for i in range(len(df)):\n",
    "    it_1 = re.sub(r'[\\n]', ' ', df['plot'][i])\n",
    "    it_2 = re.sub(r'\\s+', ' ', it_1)\n",
    "    df.loc[i, \"plot\"] = re.sub(r'\\[[\\d\\w\\.]+\\]', '', it_2)"
   ]
  },
  {
   "cell_type": "code",
   "execution_count": 7,
   "id": "4e06256f-e700-4558-8ce0-be378a83691b",
   "metadata": {},
   "outputs": [],
   "source": [
    "for i in range(len(df)):\n",
    "    it_1 = re.sub(r'[\\n]', ' ', df['description'][i])\n",
    "    it_2 = re.sub(r'\\s+', ' ', it_1)\n",
    "    df.loc[i, \"description\"] = re.sub(r'\\[[\\d\\w\\.]+\\]', '', it_2)"
   ]
  },
  {
   "cell_type": "code",
   "execution_count": 8,
   "id": "61317b67-ce7a-44ee-a115-1dada9f29d54",
   "metadata": {},
   "outputs": [],
   "source": [
    "# объединим такие ячейки\n",
    "df.loc[(df['description'].str.slice(0, 13) != df['plot'].str.slice(0, 13)), 'plot'] = df['description'] + ' ' + df['plot']"
   ]
  },
  {
   "cell_type": "code",
   "execution_count": 9,
   "id": "1ad1b526-b4cd-4f86-8b77-5e47edd886b7",
   "metadata": {},
   "outputs": [
    {
     "data": {
      "text/plain": [
       "1291"
      ]
     },
     "execution_count": 9,
     "metadata": {},
     "output_type": "execute_result"
    }
   ],
   "source": [
    "# посмотрим минимальное и максимальное количество токенов\n",
    "plot_len_train = [len(str(i).split()) for i in df['plot']]\n",
    "max(plot_len_train)"
   ]
  },
  {
   "cell_type": "code",
   "execution_count": 10,
   "id": "288b67ac-4dc1-40ff-a763-1f6e1809146d",
   "metadata": {},
   "outputs": [
    {
     "data": {
      "text/plain": [
       "28"
      ]
     },
     "execution_count": 10,
     "metadata": {},
     "output_type": "execute_result"
    }
   ],
   "source": [
    "min(plot_len_train)"
   ]
  },
  {
   "cell_type": "code",
   "execution_count": 11,
   "id": "e8d4d4e2-ac8a-4fee-b1d2-cdfb970621f4",
   "metadata": {},
   "outputs": [
    {
     "name": "stderr",
     "output_type": "stream",
     "text": [
      "C:\\Users\\Animados\\anaconda3\\envs\\tensorflow\\lib\\site-packages\\transformers\\tokenization_utils_base.py:1601: FutureWarning: `clean_up_tokenization_spaces` was not set. It will be set to `True` by default. This behavior will be depracted in transformers v4.45, and will be then set to `False` by default. For more details check this issue: https://github.com/huggingface/transformers/issues/31884\n",
      "  warnings.warn(\n"
     ]
    }
   ],
   "source": [
    "MAX_LEN = 512\n",
    "\n",
    "tokenizer = BertTokenizer.from_pretrained('DeepPavlov/rubert-base-cased')\n",
    "class TestDataset(Dataset):\n",
    "\n",
    "  def __init__(self, dataframe, tokenizer, max_len):\n",
    "    self.tokenizer = tokenizer\n",
    "    self.data = dataframe\n",
    "    self.text = self.data['plot']\n",
    "    self.max_len = max_len\n",
    "\n",
    "  def __len__(self):\n",
    "    return len(self.text)\n",
    "\n",
    "  def __getitem__(self, index):\n",
    "    text = str(self.text[index])\n",
    "\n",
    "    inputs = self.tokenizer.encode_plus(\n",
    "        text,\n",
    "        None,\n",
    "        add_special_tokens=True,\n",
    "        max_length=self.max_len,\n",
    "        padding='max_length',\n",
    "        return_token_type_ids=True,\n",
    "        truncation=True\n",
    "    )\n",
    "    ids = inputs[\"input_ids\"]\n",
    "    mask = inputs[\"attention_mask\"]\n",
    "    token_type_ids = inputs[\"token_type_ids\"]\n",
    "\n",
    "    return {\n",
    "        'ids': torch.tensor(ids, dtype=torch.long),\n",
    "        'mask': torch.tensor(mask, dtype=torch.long),\n",
    "        'token_type_ids': torch.tensor(token_type_ids, dtype=torch.long)\n",
    "    }"
   ]
  },
  {
   "cell_type": "code",
   "execution_count": 12,
   "id": "8b8c8bdd-96ca-4103-80d1-4bae44a9fa9f",
   "metadata": {},
   "outputs": [],
   "source": [
    "public_set = TestDataset(df, tokenizer, MAX_LEN)\n",
    "public_dataloader = DataLoader(public_set, batch_size=16, shuffle=False)"
   ]
  },
  {
   "cell_type": "code",
   "execution_count": 13,
   "id": "47701dd9-3264-45c4-a625-ecce1b3f1f4f",
   "metadata": {},
   "outputs": [
    {
     "name": "stderr",
     "output_type": "stream",
     "text": [
      "Some weights of the model checkpoint at DeepPavlov/rubert-base-cased were not used when initializing BertModel: ['cls.predictions.bias', 'cls.predictions.decoder.bias', 'cls.predictions.decoder.weight', 'cls.predictions.transform.LayerNorm.bias', 'cls.predictions.transform.LayerNorm.weight', 'cls.predictions.transform.dense.bias', 'cls.predictions.transform.dense.weight', 'cls.seq_relationship.bias', 'cls.seq_relationship.weight']\n",
      "- This IS expected if you are initializing BertModel from the checkpoint of a model trained on another task or with another architecture (e.g. initializing a BertForSequenceClassification model from a BertForPreTraining model).\n",
      "- This IS NOT expected if you are initializing BertModel from the checkpoint of a model that you expect to be exactly identical (initializing a BertForSequenceClassification model from a BertForSequenceClassification model).\n"
     ]
    },
    {
     "data": {
      "text/plain": [
       "BERTClass(\n",
       "  (l1): BertModel(\n",
       "    (embeddings): BertEmbeddings(\n",
       "      (word_embeddings): Embedding(119547, 768, padding_idx=0)\n",
       "      (position_embeddings): Embedding(512, 768)\n",
       "      (token_type_embeddings): Embedding(2, 768)\n",
       "      (LayerNorm): LayerNorm((768,), eps=1e-12, elementwise_affine=True)\n",
       "      (dropout): Dropout(p=0.1, inplace=False)\n",
       "    )\n",
       "    (encoder): BertEncoder(\n",
       "      (layer): ModuleList(\n",
       "        (0-11): 12 x BertLayer(\n",
       "          (attention): BertAttention(\n",
       "            (self): BertSdpaSelfAttention(\n",
       "              (query): Linear(in_features=768, out_features=768, bias=True)\n",
       "              (key): Linear(in_features=768, out_features=768, bias=True)\n",
       "              (value): Linear(in_features=768, out_features=768, bias=True)\n",
       "              (dropout): Dropout(p=0.1, inplace=False)\n",
       "            )\n",
       "            (output): BertSelfOutput(\n",
       "              (dense): Linear(in_features=768, out_features=768, bias=True)\n",
       "              (LayerNorm): LayerNorm((768,), eps=1e-12, elementwise_affine=True)\n",
       "              (dropout): Dropout(p=0.1, inplace=False)\n",
       "            )\n",
       "          )\n",
       "          (intermediate): BertIntermediate(\n",
       "            (dense): Linear(in_features=768, out_features=3072, bias=True)\n",
       "            (intermediate_act_fn): GELUActivation()\n",
       "          )\n",
       "          (output): BertOutput(\n",
       "            (dense): Linear(in_features=3072, out_features=768, bias=True)\n",
       "            (LayerNorm): LayerNorm((768,), eps=1e-12, elementwise_affine=True)\n",
       "            (dropout): Dropout(p=0.1, inplace=False)\n",
       "          )\n",
       "        )\n",
       "      )\n",
       "    )\n",
       "    (pooler): BertPooler(\n",
       "      (dense): Linear(in_features=768, out_features=768, bias=True)\n",
       "      (activation): Tanh()\n",
       "    )\n",
       "  )\n",
       "  (l2): Linear(in_features=768, out_features=14, bias=True)\n",
       ")"
      ]
     },
     "execution_count": 13,
     "metadata": {},
     "output_type": "execute_result"
    }
   ],
   "source": [
    "NUM_CLASSES = 14\n",
    "\n",
    "class BERTClass(torch.nn.Module):\n",
    "  def __init__(self, num_classes):\n",
    "    super(BERTClass, self).__init__()\n",
    "    # self.l1 = transformers.AutoModel.from_pretrained(\"cointegrated/LaBSE-en-ru\")\n",
    "    # self.l1 = transformers.AutoModel.from_pretrained(\"DeepPavlov/rubert-base-cased-sentence\")\n",
    "    self.l1 = transformers.BertModel.from_pretrained('DeepPavlov/rubert-base-cased')\n",
    "    self.l2 = torch.nn.Linear(768, num_classes)\n",
    "\n",
    "  def forward(self, ids, mask, token_type_ids):\n",
    "    x = self.l1(ids, attention_mask=mask, token_type_ids=token_type_ids)\n",
    "    x = self.l2(x['pooler_output'])\n",
    "    return x\n",
    "\n",
    "\n",
    "model = BERTClass(NUM_CLASSES)\n",
    "model.to(device)"
   ]
  },
  {
   "cell_type": "code",
   "execution_count": 14,
   "id": "9e7108d1-10b9-48b5-be71-901115504cb4",
   "metadata": {},
   "outputs": [
    {
     "name": "stderr",
     "output_type": "stream",
     "text": [
      "C:\\Users\\Animados\\AppData\\Local\\Temp\\ipykernel_12216\\3870167170.py:2: FutureWarning: You are using `torch.load` with `weights_only=False` (the current default value), which uses the default pickle module implicitly. It is possible to construct malicious pickle data which will execute arbitrary code during unpickling (See https://github.com/pytorch/pytorch/blob/main/SECURITY.md#untrusted-models for more details). In a future release, the default value for `weights_only` will be flipped to `True`. This limits the functions that could be executed during unpickling. Arbitrary objects will no longer be allowed to be loaded via this mode unless they are explicitly allowlisted by the user via `torch.serialization.add_safe_globals`. We recommend you start setting `weights_only=True` for any use case where you don't have full control of the loaded file. Please open an issue on GitHub for any issues related to this experimental feature.\n",
      "  model.load_state_dict(torch.load(path_to_weights))\n"
     ]
    },
    {
     "data": {
      "text/plain": [
       "<All keys matched successfully>"
      ]
     },
     "execution_count": 14,
     "metadata": {},
     "output_type": "execute_result"
    }
   ],
   "source": [
    "path_to_weights = './Task3_final24_Bert_25_split_LB_64.232_20epoch_seed_110_check.pth'\n",
    "model.load_state_dict(torch.load(path_to_weights))"
   ]
  },
  {
   "cell_type": "code",
   "execution_count": 17,
   "id": "7bf9d3ef-f243-404a-85b0-05ddcfe17a11",
   "metadata": {},
   "outputs": [
    {
     "name": "stderr",
     "output_type": "stream",
     "text": [
      "  0%|          | 0/8 [00:00<?, ?it/s]C:\\Users\\Animados\\anaconda3\\envs\\tensorflow\\lib\\site-packages\\transformers\\models\\bert\\modeling_bert.py:439: UserWarning: 1Torch was not compiled with flash attention. (Triggered internally at C:\\cb\\pytorch_1000000000000\\work\\aten\\src\\ATen\\native\\transformers\\cuda\\sdp_utils.cpp:555.)\n",
      "  attn_output = torch.nn.functional.scaled_dot_product_attention(\n",
      "100%|██████████| 8/8 [00:03<00:00,  2.34it/s]\n"
     ]
    }
   ],
   "source": [
    "model.eval()\n",
    "fin_outputs = []\n",
    "\n",
    "with torch.no_grad():\n",
    "    for data in tqdm(public_dataloader):\n",
    "        ids = data['ids'].to(device, dtype=torch.long)\n",
    "        mask = data['mask'].to(device, dtype=torch.long)\n",
    "        token_type_ids = data['token_type_ids'].to(device, dtype=torch.long)\n",
    "\n",
    "        outputs = model(ids, mask, token_type_ids)\n",
    "\n",
    "        fin_outputs.extend(torch.sigmoid(outputs).cpu().detach().numpy().tolist())\n",
    "\n",
    "threshold = 0.85\n",
    "fin_outputs = (np.array(fin_outputs) >= threshold).astype(int)"
   ]
  },
  {
   "cell_type": "code",
   "execution_count": 18,
   "id": "746afe14-af14-4d8d-84cd-eeb66bc092d5",
   "metadata": {},
   "outputs": [],
   "source": [
    "genres = ['боевик', 'детектив', 'драма', 'история', 'комедия', 'криминал',\n",
    "       'мелодрама', 'мультфильм', 'мюзикл', 'приключения', 'триллер',\n",
    "       'ужасы', 'фантастика', 'фэнтези']"
   ]
  },
  {
   "cell_type": "code",
   "execution_count": 19,
   "id": "99e00029-99eb-4b52-b2e1-e1b970d2af63",
   "metadata": {},
   "outputs": [],
   "source": [
    "def replace_and_join(array, genres):\n",
    "    result = []\n",
    "    for row in array:\n",
    "        genre_indices = np.where(row == 1)[0]\n",
    "        genre_names = [genres[i] for i in genre_indices]\n",
    "        result.append(\", \".join(genre_names))\n",
    "    return result\n",
    "\n",
    "answers = replace_and_join(fin_outputs, genres)"
   ]
  },
  {
   "cell_type": "code",
   "execution_count": 20,
   "id": "abf34e37-e688-4748-9de0-38ce14325443",
   "metadata": {},
   "outputs": [
    {
     "data": {
      "text/html": [
       "<div>\n",
       "<style scoped>\n",
       "    .dataframe tbody tr th:only-of-type {\n",
       "        vertical-align: middle;\n",
       "    }\n",
       "\n",
       "    .dataframe tbody tr th {\n",
       "        vertical-align: top;\n",
       "    }\n",
       "\n",
       "    .dataframe thead th {\n",
       "        text-align: right;\n",
       "    }\n",
       "</style>\n",
       "<table border=\"1\" class=\"dataframe\">\n",
       "  <thead>\n",
       "    <tr style=\"text-align: right;\">\n",
       "      <th></th>\n",
       "      <th>Фильм</th>\n",
       "      <th>Жанры</th>\n",
       "    </tr>\n",
       "  </thead>\n",
       "  <tbody>\n",
       "    <tr>\n",
       "      <th>0</th>\n",
       "      <td>Пираты галактики Барракуда (2024)</td>\n",
       "      <td>мультфильм, приключения, фантастика</td>\n",
       "    </tr>\n",
       "    <tr>\n",
       "      <th>1</th>\n",
       "      <td>Брат (1997)</td>\n",
       "      <td>боевик, комедия, криминал</td>\n",
       "    </tr>\n",
       "    <tr>\n",
       "      <th>2</th>\n",
       "      <td>Смерч 2 (2024)</td>\n",
       "      <td>драма, приключения, фантастика</td>\n",
       "    </tr>\n",
       "    <tr>\n",
       "      <th>3</th>\n",
       "      <td>Реквием по мечте (2000)</td>\n",
       "      <td>драма, комедия, криминал</td>\n",
       "    </tr>\n",
       "    <tr>\n",
       "      <th>4</th>\n",
       "      <td>Капитан Волконогов бежал (2021)</td>\n",
       "      <td>боевик, детектив, драма, криминал</td>\n",
       "    </tr>\n",
       "    <tr>\n",
       "      <th>...</th>\n",
       "      <td>...</td>\n",
       "      <td>...</td>\n",
       "    </tr>\n",
       "    <tr>\n",
       "      <th>118</th>\n",
       "      <td>Великий Гэтсби (2013)</td>\n",
       "      <td>драма, мелодрама, фэнтези</td>\n",
       "    </tr>\n",
       "    <tr>\n",
       "      <th>119</th>\n",
       "      <td>Пришельцы (2022)</td>\n",
       "      <td>боевик, приключения, фантастика</td>\n",
       "    </tr>\n",
       "    <tr>\n",
       "      <th>120</th>\n",
       "      <td>Загадочная история Бенджамина Баттона (2008)</td>\n",
       "      <td>драма, история, мелодрама</td>\n",
       "    </tr>\n",
       "    <tr>\n",
       "      <th>121</th>\n",
       "      <td>Отряд самоубийц (2016)</td>\n",
       "      <td>боевик, комедия, приключения, фантастика</td>\n",
       "    </tr>\n",
       "    <tr>\n",
       "      <th>122</th>\n",
       "      <td>Бронкская история (1993)</td>\n",
       "      <td>драма, история, криминал</td>\n",
       "    </tr>\n",
       "  </tbody>\n",
       "</table>\n",
       "<p>123 rows × 2 columns</p>\n",
       "</div>"
      ],
      "text/plain": [
       "                                            Фильм  \\\n",
       "0               Пираты галактики Барракуда (2024)   \n",
       "1                                     Брат (1997)   \n",
       "2                                  Смерч 2 (2024)   \n",
       "3                         Реквием по мечте (2000)   \n",
       "4                 Капитан Волконогов бежал (2021)   \n",
       "..                                            ...   \n",
       "118                         Великий Гэтсби (2013)   \n",
       "119                              Пришельцы (2022)   \n",
       "120  Загадочная история Бенджамина Баттона (2008)   \n",
       "121                        Отряд самоубийц (2016)   \n",
       "122                      Бронкская история (1993)   \n",
       "\n",
       "                                        Жанры  \n",
       "0         мультфильм, приключения, фантастика  \n",
       "1                   боевик, комедия, криминал  \n",
       "2              драма, приключения, фантастика  \n",
       "3                    драма, комедия, криминал  \n",
       "4           боевик, детектив, драма, криминал  \n",
       "..                                        ...  \n",
       "118                 драма, мелодрама, фэнтези  \n",
       "119           боевик, приключения, фантастика  \n",
       "120                 драма, история, мелодрама  \n",
       "121  боевик, комедия, приключения, фантастика  \n",
       "122                  драма, история, криминал  \n",
       "\n",
       "[123 rows x 2 columns]"
      ]
     },
     "execution_count": 20,
     "metadata": {},
     "output_type": "execute_result"
    }
   ],
   "source": [
    "answers_df = df[['movie']].copy()\n",
    "answers_df['genres'] = answers\n",
    "answers_df = answers_df.rename({'movie': 'Фильм', 'genres': 'Жанры'}, axis=1)\n",
    "answers_df"
   ]
  },
  {
   "cell_type": "code",
   "execution_count": 21,
   "id": "4b9d821c-03f9-4839-a65b-700a9535b78b",
   "metadata": {},
   "outputs": [],
   "source": [
    "seed = 110\n",
    "answers_df.to_csv(f'submit_private_seed_{seed}_threshold85.csv', index=False)"
   ]
  },
  {
   "cell_type": "code",
   "execution_count": null,
   "id": "a991229e-d040-4408-abd6-acdc4da14b7a",
   "metadata": {},
   "outputs": [],
   "source": []
  }
 ],
 "metadata": {
  "kernelspec": {
   "display_name": "Python 3 (ipykernel)",
   "language": "python",
   "name": "python3"
  },
  "language_info": {
   "codemirror_mode": {
    "name": "ipython",
    "version": 3
   },
   "file_extension": ".py",
   "mimetype": "text/x-python",
   "name": "python",
   "nbconvert_exporter": "python",
   "pygments_lexer": "ipython3",
   "version": "3.10.13"
  }
 },
 "nbformat": 4,
 "nbformat_minor": 5
}
